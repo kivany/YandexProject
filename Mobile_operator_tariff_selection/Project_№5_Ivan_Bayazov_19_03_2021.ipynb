{
 "cells": [
  {
   "cell_type": "markdown",
   "metadata": {},
   "source": [
    "# Создание системы предлагающей пользователям новый тариф\n",
    "\n",
    "Оператор мобильной связи «Мегалайн» выяснил: многие клиенты пользуются архивными тарифами. Необходимо построить систему, способную проанализировать поведение клиентов и предложить пользователям новый тариф: «Смарт» или «Ультра».  \n",
    "В распоряжении имеются данные о поведении клиентов, которые уже перешли на эти тарифы. Нужно построить модель для задачи классификации, которая выберет подходящий тариф."
   ]
  },
  {
   "cell_type": "markdown",
   "metadata": {},
   "source": [
    "## Анализ файла с данными."
   ]
  },
  {
   "cell_type": "code",
   "execution_count": 1,
   "metadata": {
    "scrolled": true
   },
   "outputs": [],
   "source": [
    "import numpy as np\n",
    "import pandas as pd\n",
    "\n",
    "from sklearn.model_selection import train_test_split \n",
    "from sklearn.tree import DecisionTreeClassifier\n",
    "from sklearn.ensemble import RandomForestClassifier\n",
    "from sklearn.linear_model import LogisticRegression\n",
    "from sklearn.metrics import accuracy_score\n",
    "from sklearn.metrics import precision_score\n",
    "from sklearn.metrics import recall_score\n",
    "from sklearn.metrics import confusion_matrix\n",
    "\n",
    "\n",
    "try:\n",
    "    data = pd.read_csv('C:\\\\Users\\\\ivan.bayazov\\\\Desktop\\\\users_behavior.csv')\n",
    "\n",
    "#     data = pd.read_csv('/Users/home/YandexProject/data/3/users_behavior.csv')\n",
    "\n",
    "except:\n",
    "    data = pd.read_csv('/datasets/users_behavior.csv')\n",
    "\n",
    "\n",
    "pd.set_option('display.max_columns', 30)\n",
    "pd.set_option('display.max_rows', 500)\n",
    "\n",
    "data.info()"
   ]
  },
  {
   "cell_type": "markdown",
   "metadata": {},
   "source": [
    "**Вывод**\n",
    "\n",
    "В нашем распоряжении имеется набор данных содержащий информацию о **3214** объектах.  \n",
    "Каждый объект в наборе данных — это информация о поведении одного пользователя за месяц. Известно:  \n",
    "**сalls** — количество звонков,  \n",
    "**minutes** — суммарная длительность звонков в минутах,  \n",
    "**messages** — количество sms-сообщений,  \n",
    "**mb_used** — израсходованный интернет-трафик в Мб,  \n",
    "**is_ultra** — каким тарифом пользовался в течение месяца («Ультра» — 1, «Смарт» — 0).  \n",
    "\n",
    "**Предобработка данных не требуется.**"
   ]
  },
  {
   "cell_type": "markdown",
   "metadata": {},
   "source": [
    "## Исследование качества моделей"
   ]
  },
  {
   "cell_type": "code",
   "execution_count": 16,
   "metadata": {},
   "outputs": [
    {
     "data": {
      "text/html": [
       "<div>\n",
       "<style scoped>\n",
       "    .dataframe tbody tr th:only-of-type {\n",
       "        vertical-align: middle;\n",
       "    }\n",
       "\n",
       "    .dataframe tbody tr th {\n",
       "        vertical-align: top;\n",
       "    }\n",
       "\n",
       "    .dataframe thead th {\n",
       "        text-align: right;\n",
       "    }\n",
       "</style>\n",
       "<table border=\"1\" class=\"dataframe\">\n",
       "  <thead>\n",
       "    <tr style=\"text-align: right;\">\n",
       "      <th></th>\n",
       "      <th>calls</th>\n",
       "      <th>minutes</th>\n",
       "      <th>messages</th>\n",
       "      <th>mb_used</th>\n",
       "      <th>is_ultra</th>\n",
       "    </tr>\n",
       "  </thead>\n",
       "  <tbody>\n",
       "    <tr>\n",
       "      <td>0</td>\n",
       "      <td>40.0</td>\n",
       "      <td>311.90</td>\n",
       "      <td>83.0</td>\n",
       "      <td>19915.42</td>\n",
       "      <td>0</td>\n",
       "    </tr>\n",
       "    <tr>\n",
       "      <td>1</td>\n",
       "      <td>85.0</td>\n",
       "      <td>516.75</td>\n",
       "      <td>56.0</td>\n",
       "      <td>22696.96</td>\n",
       "      <td>0</td>\n",
       "    </tr>\n",
       "    <tr>\n",
       "      <td>2</td>\n",
       "      <td>77.0</td>\n",
       "      <td>467.66</td>\n",
       "      <td>86.0</td>\n",
       "      <td>21060.45</td>\n",
       "      <td>0</td>\n",
       "    </tr>\n",
       "    <tr>\n",
       "      <td>3</td>\n",
       "      <td>106.0</td>\n",
       "      <td>745.53</td>\n",
       "      <td>81.0</td>\n",
       "      <td>8437.39</td>\n",
       "      <td>1</td>\n",
       "    </tr>\n",
       "    <tr>\n",
       "      <td>4</td>\n",
       "      <td>66.0</td>\n",
       "      <td>418.74</td>\n",
       "      <td>1.0</td>\n",
       "      <td>14502.75</td>\n",
       "      <td>0</td>\n",
       "    </tr>\n",
       "  </tbody>\n",
       "</table>\n",
       "</div>"
      ],
      "text/plain": [
       "   calls  minutes  messages   mb_used  is_ultra\n",
       "0   40.0   311.90      83.0  19915.42         0\n",
       "1   85.0   516.75      56.0  22696.96         0\n",
       "2   77.0   467.66      86.0  21060.45         0\n",
       "3  106.0   745.53      81.0   8437.39         1\n",
       "4   66.0   418.74       1.0  14502.75         0"
      ]
     },
     "execution_count": 16,
     "metadata": {},
     "output_type": "execute_result"
    }
   ],
   "source": [
    "data.head()"
   ]
  },
  {
   "cell_type": "markdown",
   "metadata": {},
   "source": [
    "В рамках исследования качества проведем анализ следующих моделей:\n",
    "- Решающее дерево;\n",
    "- Случайный лес;\n",
    "- Логистическая регрессия."
   ]
  },
  {
   "cell_type": "markdown",
   "metadata": {},
   "source": [
    "В начале разделим наш набор данных на следующие выборки:\n",
    "- Обучающая (60%);\n",
    "- Валидационная (20%);\n",
    "- Тестовая (20%)."
   ]
  },
  {
   "cell_type": "code",
   "execution_count": 17,
   "metadata": {},
   "outputs": [
    {
     "name": "stdout",
     "output_type": "stream",
     "text": [
      "Количество объектов в исходном наборе: 3214\n",
      "Количество объектов в обучающей выборке: 1928\n",
      "Количество объектов в валидационной выборке: 643\n",
      "Количество объектов в тестовой выборке: 643\n"
     ]
    }
   ],
   "source": [
    "train, test = train_test_split(data, test_size=0.2, random_state=12345)\n",
    "train, validate = train_test_split(train, test_size=0.25, random_state=12345)\n",
    "print(f'Количество объектов в исходном наборе: {len(data)}')\n",
    "print(f'Количество объектов в обучающей выборке: {len(train)}')\n",
    "print(f'Количество объектов в валидационной выборке: {len(validate)}')\n",
    "print(f'Количество объектов в тестовой выборке: {len(test)}')"
   ]
  },
  {
   "cell_type": "markdown",
   "metadata": {},
   "source": [
    "Разделим наши выборки на признаки (features) и цели (target)"
   ]
  },
  {
   "cell_type": "code",
   "execution_count": 18,
   "metadata": {},
   "outputs": [],
   "source": [
    "features_train = train.drop(['is_ultra'], axis=1)\n",
    "target_train = train['is_ultra']\n",
    "\n",
    "features_validate = validate.drop(['is_ultra'], axis=1)\n",
    "target_validate = validate['is_ultra']\n",
    "\n",
    "features_test = test.drop(['is_ultra'], axis=1)\n",
    "target_test = test['is_ultra']"
   ]
  },
  {
   "cell_type": "markdown",
   "metadata": {},
   "source": [
    "### Решающее дерево"
   ]
  },
  {
   "cell_type": "markdown",
   "metadata": {},
   "source": [
    "Посчитаем модели решающего дерева с различной глубиной (от 1 до 10)"
   ]
  },
  {
   "cell_type": "code",
   "execution_count": 19,
   "metadata": {
    "scrolled": true
   },
   "outputs": [
    {
     "name": "stdout",
     "output_type": "stream",
     "text": [
      "Accuracy лучшей модели на валидационной выборке: 0.7744945567651633\n",
      "Глубина дерева: 7\n"
     ]
    }
   ],
   "source": [
    "best_model_of_tree = None\n",
    "best_result_of_tree = 0\n",
    "best_depth = 0\n",
    "for depth in range(1, 11):\n",
    "    model_of_tree = DecisionTreeClassifier(random_state=12345, max_depth=depth)\n",
    "    model_of_tree.fit(features_train, target_train)\n",
    "    predictions = model_of_tree.predict(features_validate)\n",
    "    result = accuracy_score(target_validate, predictions)\n",
    "    if result > best_result_of_tree:\n",
    "        best_model_of_tree = model_of_tree\n",
    "        best_result_of_tree = result\n",
    "        best_depth = depth\n",
    "        \n",
    "print(f'Accuracy лучшей модели на валидационной выборке: {best_result_of_tree}\\nГлубина дерева: {best_depth}')"
   ]
  },
  {
   "cell_type": "markdown",
   "metadata": {},
   "source": [
    "### Случайный лес"
   ]
  },
  {
   "cell_type": "markdown",
   "metadata": {},
   "source": [
    "Посчитаем модели случайного леса с различными гиперпараметрами количество деревьев (от 1 до 100) и глубиной дерева (от 1 до 10)"
   ]
  },
  {
   "cell_type": "code",
   "execution_count": 20,
   "metadata": {},
   "outputs": [
    {
     "name": "stdout",
     "output_type": "stream",
     "text": [
      "Accuracy лучшей модели на валидационной выборке:0.7962674961119751\n",
      "Количество деревьев: 3\n",
      "Глубина дерева: 9\n"
     ]
    }
   ],
   "source": [
    "best_model_of_forest = None\n",
    "best_result_of_forest = 0\n",
    "best_est = 0\n",
    "best_depth = 0\n",
    "for est in range(1, 11):\n",
    "    for depth in range(1, 11):\n",
    "        model_of_forest = RandomForestClassifier(random_state=12345, n_estimators=est, max_depth=depth)\n",
    "        model_of_forest.fit(features_train, target_train)\n",
    "        result = model_of_forest.score(features_validate, target_validate)\n",
    "        if result > best_result_of_forest:\n",
    "            best_model_of_forest = model_of_forest\n",
    "            best_result_of_forest = result\n",
    "            best_est = est\n",
    "            best_depth = depth\n",
    "\n",
    "print(f'Accuracy лучшей модели на валидационной выборке:' \n",
    "      f'{best_result_of_forest}\\nКоличество деревьев: {best_est}\\nГлубина дерева: {best_depth}')"
   ]
  },
  {
   "cell_type": "markdown",
   "metadata": {},
   "source": [
    "### Логистическая регрессия"
   ]
  },
  {
   "cell_type": "code",
   "execution_count": 21,
   "metadata": {},
   "outputs": [
    {
     "name": "stdout",
     "output_type": "stream",
     "text": [
      "Accuracy модели логистической регрессии на валидационной выборке: 0.6967340590979783\n"
     ]
    }
   ],
   "source": [
    "model_of_log_regress = LogisticRegression(random_state=12345, solver='liblinear') \n",
    "model_of_log_regress.fit(features_train, target_train)\n",
    "result_of_log_regress = model_of_log_regress.score(features_validate, target_validate)\n",
    "\n",
    "print(\"Accuracy модели логистической регрессии на валидационной выборке:\", result_of_log_regress)"
   ]
  },
  {
   "cell_type": "markdown",
   "metadata": {},
   "source": [
    "**Вывод**"
   ]
  },
  {
   "cell_type": "markdown",
   "metadata": {},
   "source": [
    "По результатам тестов, были выбраны лучшие гиперпараметры для каждого типа моделей и полученны следующие результаты:  "
   ]
  },
  {
   "cell_type": "markdown",
   "metadata": {},
   "source": [
    "|  | Решающее дерево | Случайный лес | Логистическая регрессия |  \n",
    "|:-----|----:|----:|----:|\n",
    "|Accuracy |0.774 |0.796 |0.696 |\n",
    "|Количество деревьев |1 |3 |- |\n",
    "|Глубина дерева |7 |9 |- |"
   ]
  },
  {
   "cell_type": "markdown",
   "metadata": {},
   "source": [
    "## Проверка качества моделей"
   ]
  },
  {
   "cell_type": "markdown",
   "metadata": {},
   "source": [
    "Проверим качество модели на тестовой выборке"
   ]
  },
  {
   "cell_type": "code",
   "execution_count": 22,
   "metadata": {},
   "outputs": [
    {
     "name": "stdout",
     "output_type": "stream",
     "text": [
      "Accuracy модели решающего дерева на тестовой выборке: 0.788\n",
      "Accuracy модели случайного леса на тестовой выборке: 0.793\n",
      "Accuracy модели логистической регрессии на тестовой выборке: 0.703\n"
     ]
    }
   ],
   "source": [
    "print(f'Accuracy модели решающего дерева на тестовой выборке: {best_model_of_tree.score(features_test, target_test):.3f}')\n",
    "print(f'Accuracy модели случайного леса на тестовой выборке: {best_model_of_forest.score(features_test, target_test):.3f}')\n",
    "print(f'Accuracy модели логистической регрессии на тестовой выборке: ' \n",
    "      f'{model_of_log_regress.score(features_test, target_test):.3f}')"
   ]
  },
  {
   "cell_type": "markdown",
   "metadata": {},
   "source": [
    "По итогам проверки получаем, что лучший результат дает модель \"Случайного леса\" с гиперпараметрами \"Количество деревьев\" равное **3** и \"Глубина дерева\" равное **9**. Доля правильно предсказанных ответов составляет более **79%**."
   ]
  },
  {
   "cell_type": "markdown",
   "metadata": {},
   "source": [
    "## Проверка модели на вменяемость"
   ]
  },
  {
   "cell_type": "markdown",
   "metadata": {},
   "source": [
    "В начале проверим, достаточно ли хорошо мы разделили данные на выборки"
   ]
  },
  {
   "cell_type": "code",
   "execution_count": 23,
   "metadata": {},
   "outputs": [
    {
     "name": "stdout",
     "output_type": "stream",
     "text": [
      "Доля объектов с тарифом \"Ультра\" в тренировочной выборке: 30.5%\n",
      "Доля объектов с тарифом \"Ультра\" в валидационной выборке: 31.1%\n",
      "Доля объектов с тарифом \"Ультра\" в тестовой выборке: 30.5%\n"
     ]
    }
   ],
   "source": [
    "print(f'Доля объектов с тарифом \"Ультра\" в тренировочной выборке: {(target_train.mean()):.1%}')\n",
    "print(f'Доля объектов с тарифом \"Ультра\" в валидационной выборке: {(target_validate.mean()):.1%}')\n",
    "print(f'Доля объектов с тарифом \"Ультра\" в тестовой выборке: {(target_test.mean()):.1%}')"
   ]
  },
  {
   "cell_type": "markdown",
   "metadata": {},
   "source": [
    "Для всех выборок у нас получилось очень близкое соотношение тарифов. По этому критерию, все хорошо. Посчитаем теперь метрики качества для нашей модели."
   ]
  },
  {
   "cell_type": "code",
   "execution_count": 24,
   "metadata": {},
   "outputs": [
    {
     "name": "stdout",
     "output_type": "stream",
     "text": [
      "Количество объектов с тарифом \"Ультра\" в тестовой выборке: 196\n",
      "Количество объектов с тарифом \"Ультра\" предсказанных моделью в тестовой выборке: 129\n",
      "Доля объектов с тарифом \"Ультра\" предсказанных моделью в тестовой выборке:20.1%\n"
     ]
    }
   ],
   "source": [
    "predictions = best_model_of_forest.predict(features_test)\n",
    "\n",
    "print(f'Количество объектов с тарифом \"Ультра\" в тестовой выборке: ' \n",
    "      f'{(target_test.sum())}')\n",
    "print(f'Количество объектов с тарифом \"Ультра\" предсказанных моделью в тестовой выборке: ' \n",
    "      f'{(predictions.sum())}')\n",
    "print(f'Доля объектов с тарифом \"Ультра\" предсказанных моделью в тестовой выборке:' \n",
    "      f'{(predictions.mean()):.1%}')"
   ]
  },
  {
   "cell_type": "code",
   "execution_count": 25,
   "metadata": {},
   "outputs": [
    {
     "name": "stdout",
     "output_type": "stream",
     "text": [
      "Доля правильных предсказаний модели по тестовой выборке: 0.793\n"
     ]
    }
   ],
   "source": [
    "print(f'Доля правильных предсказаний модели по тестовой выборке: {(accuracy_score(target_test, predictions)):.3f}')"
   ]
  },
  {
   "cell_type": "code",
   "execution_count": 26,
   "metadata": {},
   "outputs": [
    {
     "name": "stdout",
     "output_type": "stream",
     "text": [
      "Точность предсказаний модели по тестовой выборке: 0.744\n"
     ]
    }
   ],
   "source": [
    "print(f'Точность предсказаний модели по тестовой выборке: {(precision_score(target_test, predictions)):.3f}')"
   ]
  },
  {
   "cell_type": "code",
   "execution_count": 27,
   "metadata": {},
   "outputs": [
    {
     "name": "stdout",
     "output_type": "stream",
     "text": [
      "Полнота предсказаний модели по тестовой выборке: 0.490\n"
     ]
    }
   ],
   "source": [
    "print(f'Полнота предсказаний модели по тестовой выборке: {(recall_score(target_test, predictions)):.3f}')"
   ]
  },
  {
   "cell_type": "code",
   "execution_count": 28,
   "metadata": {},
   "outputs": [
    {
     "name": "stdout",
     "output_type": "stream",
     "text": [
      "Матрица ошибок предсказаний модели по тестовой выборке:\n",
      "\n",
      " [[414  33]\n",
      " [100  96]]\n"
     ]
    }
   ],
   "source": [
    "print(f'Матрица ошибок предсказаний модели по тестовой выборке:\\n\\n {confusion_matrix(target_test, predictions)}')"
   ]
  },
  {
   "cell_type": "markdown",
   "metadata": {},
   "source": [
    "Подведем итоги проверки вменяемости модели:  \n",
    "В целом модель на тестовой выборке предсказала 79,3% правильных ответов. Что довольно не плохо.   \n",
    "При этом модель предсказала 129 (20.1%) значений \"Ультра\", в действительности их 196 (30.5%). Из них точно предсказанных 74,4 %, что составляет чуть меньше половины.    \n",
    "Модель на тестовой выборке смогла правильно определить лишь 96 из 196 значений \"Ультра\".  \n",
    "Истинно-положительный: 414  \n",
    "Ложно-положительный: 33  \n",
    "Ложно-отрицательный: 100  \n",
    "Истинно-отрицательный: 96  \n",
    "Модель очень хорошо определяет пользователей тарифа \"Смарт\" (93%) и плохо распознает тариф \"Ультра\" (49%)."
   ]
  },
  {
   "cell_type": "markdown",
   "metadata": {},
   "source": [
    "## Общий вывод"
   ]
  },
  {
   "cell_type": "markdown",
   "metadata": {},
   "source": [
    "### Цель проекта\n",
    "Задача — необходимо построить систему, способную проанализировать поведение клиентов и предложить пользователям новый тариф: «Смарт» или «Ультра»."
   ]
  },
  {
   "cell_type": "markdown",
   "metadata": {},
   "source": [
    "### Исходные данные\n",
    "В распоряжении имелись данные о поведении клиентов, которые уже перешли на эти тарифы.  \n",
    " \n",
    "Файл **\"users_behavior\"** содержал **3214** строк информации.\n",
    "Каждый объект в наборе данных — это информация о поведении одного пользователя за месяц. Известно:  \n",
    "**сalls** — количество звонков,  \n",
    "**minutes** — суммарная длительность звонков в минутах,  \n",
    "**messages** — количество sms-сообщений,  \n",
    "**mb_used** — израсходованный интернет-трафик в Мб,  \n",
    "**is_ultra** — каким тарифом пользовался в течение месяца («Ультра» — 1, «Смарт» — 0).  \n",
    "\n",
    "**Предобработка данных не требовалась.**"
   ]
  },
  {
   "cell_type": "markdown",
   "metadata": {},
   "source": [
    "### Проведенные исследования \n",
    "\n",
    "В рамках исследования качества был проведен анализ следующих типов моделей:  \n",
    "- Решающее дерево. Производился перебор гиперпараметра глубины дерева от 1 до 10;  \n",
    "- Случайный лес. Производился перебор гиперпараметров количество деревьев от 1 до 10 и глубины деревьев от 1 до 10;  \n",
    "- Логистическая регрессия.  \n",
    "\n",
    "Исходный набор данных был разделен на выборки в следующих пропорциях:  \n",
    "- Обучающая (60%);  \n",
    "- Валидационная (20%);  \n",
    "- Тестовая (20%).  \n",
    "\n",
    "\n",
    "По результатам тестов, были выбраны лучшие гиперпараметры для каждого типа моделей и полученны следующие результаты:\n",
    "\n",
    "|  | Решающее дерево | Случайный лес | Логистическая регрессия |  \n",
    "|:-----|----:|----:|----:|\n",
    "|Accuracy |0.774 |0.796 |0.696 |\n",
    "|Количество деревьев |1 |3 |- |\n",
    "|Глубина дерева |7 |9 |- |\n",
    "\n",
    "Далее на вход этим моделям подавалась тестовая выборка. Были полученны следующие результаты:   \n",
    "- Accuracy модели решающего дерева: 0.788  \n",
    "- Accuracy модели случайного леса: 0.793  \n",
    "- Accuracy модели логистической регрессии: 0.703  \n",
    "\n",
    "По итогам проверки получось, что лучший результат дает модель \"Случайного леса\" с гиперпараметрами \"Количество деревьев\" равное 3 и \"Глубина дерева\" равное 9. Доля правильно предсказанных ответов составила более 79%. \n",
    "\n",
    "По итогам проверки вменяемости модели и расчета метрик качества было определено следующее:   \n",
    "Модель на тестовой выборке предсказала 79,3% правильных ответов. Что довольно не плохо.  \n",
    "При этом модель предсказала 129 (20.1%) значений \"Ультра\", в действительности их 196 (30.5%). Из них точно предсказанных 74,4 %, что составляет чуть меньше половины.  \n",
    "Модель на тестовой выборке смогла правильно определить лишь 96 из 196 значений \"Ультра\".  \n",
    "\n",
    "Матрица ошибок:  \n",
    "- Истинно-положительный: 414  \n",
    "- Ложно-положительный: 33  \n",
    "- Ложно-отрицательный: 100  \n",
    "- Истинно-отрицательный: 96  \n",
    "\n",
    "Модель очень хорошо определяет пользователей тарифа \"Смарт\" (93%) и плохо распознает тариф \"Ультра\" (49%)."
   ]
  },
  {
   "cell_type": "code",
   "execution_count": null,
   "metadata": {},
   "outputs": [],
   "source": []
  }
 ],
 "metadata": {
  "kernelspec": {
   "display_name": "Python 3",
   "language": "python",
   "name": "python3"
  },
  "language_info": {
   "codemirror_mode": {
    "name": "ipython",
    "version": 3
   },
   "file_extension": ".py",
   "mimetype": "text/x-python",
   "name": "python",
   "nbconvert_exporter": "python",
   "pygments_lexer": "ipython3",
   "version": "3.7.9"
  },
  "toc": {
   "base_numbering": 1,
   "nav_menu": {},
   "number_sections": true,
   "sideBar": true,
   "skip_h1_title": true,
   "title_cell": "Table of Contents",
   "title_sidebar": "Contents",
   "toc_cell": false,
   "toc_position": {},
   "toc_section_display": true,
   "toc_window_display": true
  }
 },
 "nbformat": 4,
 "nbformat_minor": 2
}
